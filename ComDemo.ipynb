{
 "cells": [
  {
   "cell_type": "markdown",
   "metadata": {},
   "source": [
    "Find local communities"
   ]
  },
  {
   "cell_type": "code",
   "execution_count": 1,
   "metadata": {},
   "outputs": [
    {
     "name": "stdout",
     "output_type": "stream",
     "text": [
      "DONE.\n"
     ]
    }
   ],
   "source": [
    "import sys\n",
    "import networkx as nx\n",
    "import numpy as np\n",
    "import copy\n",
    "\n",
    "# density function is defined as 2*number of edges in a cluster / number of vertices in the cluster\n",
    "def density(g):\n",
    "    length = len(list(g.nodes()))\n",
    "    if length == 0:\n",
    "        return 0.0\n",
    "    return float(sum(map(lambda x: x[1], g.degree())))/length\n",
    "\n",
    "# generates a networkx graph from edge list\n",
    "def generate_graph(filename):\n",
    "    with open(filename, 'rb') as inf:\n",
    "        next(inf, '')   # skip a line\n",
    "        G = nx.read_edgelist(inf, delimiter=\" \", nodetype=str)\n",
    "    return G\n",
    "\n",
    "# Link aggregate algorithm as per paper 1\n",
    "def LA(G):\n",
    "    list_of_vertices = G.nodes()\n",
    "    page_rank_dict = nx.pagerank(G)\n",
    "    page_rank_dict = sorted(page_rank_dict.items(), key=lambda x: x[1], reverse =True)\n",
    "    clusters = []\n",
    "    for v_row in page_rank_dict:\n",
    "        added = False\n",
    "        for i,D in enumerate(clusters):\n",
    "            w = density(G.subgraph(D))\n",
    "            W = density(G.subgraph(D+[v_row[0]]))\n",
    "            if W > w:\n",
    "                clusters[i] = D+[v_row[0]]\n",
    "                added = True\n",
    "        if added == False:\n",
    "            clusters.append([v_row[0]])\n",
    "    return clusters\n",
    "\n",
    "# IS_square algorithm as per paper 1\n",
    "def IS_square(seed,G):\n",
    "    C = list(set(seed))\n",
    "    w = density(G.subgraph(C))\n",
    "    increased = True\n",
    "    while increased:\n",
    "        N = copy.deepcopy(C)\n",
    "        for v in C:\n",
    "            N = N + list(G.neighbors(v))\n",
    "            N = list(set(N))\n",
    "        for v in N:\n",
    "            c_dash = copy.deepcopy(C)\n",
    "            if v in C:\n",
    "                c_dash.remove(v)\n",
    "            else:\n",
    "                c_dash = C + [v]\n",
    "                #C = C + [v]\n",
    "            if density(G.subgraph(c_dash)) > density(G.subgraph(C)):\n",
    "                C = c_dash\n",
    "        if density(G.subgraph(C)) <= w:\n",
    "            increased = False\n",
    "        else:\n",
    "            w = density(G.subgraph(C))\n",
    "    return C\n",
    "\n",
    "# write the output i.e. the identified (overlapping) clusters to a file\n",
    "def write_to_file(filename, new_cluster):\n",
    "    fo = open(filename, \"w+\")\n",
    "    for c in new_cluster:\n",
    "        fo.write(\" \".join(c))\n",
    "        fo.write(\"\\n\")\n",
    "    fo.close()\n",
    "\n",
    "# checks if a cluster formed is already present in the output.\n",
    "def is_duplicate(new_clus, new_clusters):\n",
    "    for v in new_clusters:\n",
    "        if len(set(new_clus).difference(set(v))) == 0:\n",
    "            return True\n",
    "    return False\n",
    "\n",
    "\n",
    "filename = \"datasets/youtube/youtube.graph.small\"\n",
    "G = generate_graph(filename)\n",
    "clusters = LA(G)\n",
    "new_clusters = []\n",
    "for seed in clusters:\n",
    "    new_clus = IS_square(seed,G)\n",
    "    if not is_duplicate(new_clus, new_clusters):\n",
    "        new_clusters.append(new_clus)\n",
    "write_to_file(filename.split(\"/\")[2] + \"_output.txt\", new_clusters)\n",
    "print \"DONE.\""
   ]
  },
  {
   "cell_type": "markdown",
   "metadata": {},
   "source": [
    "Create positions for nodes and edges"
   ]
  },
  {
   "cell_type": "code",
   "execution_count": 2,
   "metadata": {},
   "outputs": [],
   "source": [
    "pos = nx.spring_layout(G)"
   ]
  },
  {
   "cell_type": "markdown",
   "metadata": {},
   "source": [
    "Visualize Graphs"
   ]
  },
  {
   "cell_type": "code",
   "execution_count": 3,
   "metadata": {
    "scrolled": false
   },
   "outputs": [
    {
     "data": {
      "text/plain": [
       "<matplotlib.figure.Figure at 0x8f14208>"
      ]
     },
     "metadata": {},
     "output_type": "display_data"
    },
    {
     "data": {
      "text/plain": [
       "<matplotlib.figure.Figure at 0xa4d38d0>"
      ]
     },
     "metadata": {},
     "output_type": "display_data"
    },
    {
     "data": {
      "text/plain": [
       "<matplotlib.figure.Figure at 0xa4eb940>"
      ]
     },
     "metadata": {},
     "output_type": "display_data"
    }
   ],
   "source": [
    "import matplotlib.pyplot as plt\n",
    "\n",
    "def groupColor(node, clusters):\n",
    "    for i,m in enumerate(clusters):\n",
    "        if node in m:\n",
    "            return float(i)/len(clusters)\n",
    "\n",
    "def multipleGroups(node, clusters):\n",
    "    group = 0\n",
    "    numGroups = 0\n",
    "    for i,m in enumerate(clusters):\n",
    "        if node in m:\n",
    "            numGroups += 1\n",
    "            group = 'b'\n",
    "    if numGroups > 1:\n",
    "        group = 'r'\n",
    "    return group\n",
    "\n",
    "colors = []\n",
    "colorsMul = []\n",
    "for n in G.nodes:\n",
    "    colors.append(groupColor(n, new_clusters))\n",
    "\n",
    "for n in G.nodes:\n",
    "    colorsMul.append(multipleGroups(n, new_clusters))\n",
    "    \n",
    "plt.figure(figsize=(20,15))\n",
    "nx.draw_networkx_edges(G, pos)\n",
    "nx.draw_networkx_nodes(G, pos, node_size=30)\n",
    "plt.axis(\"off\")\n",
    "plt.show()\n",
    "    \n",
    "plt.figure(figsize=(20,15))\n",
    "nx.draw_networkx_edges(G, pos)\n",
    "nx.draw_networkx_nodes(G, pos, cmap=plt.get_cmap('jet'),node_color=np.array(colors), node_size=30)\n",
    "plt.axis(\"off\")\n",
    "plt.show()\n",
    "\n",
    "plt.figure(figsize=(20,15))\n",
    "nx.draw_networkx_edges(G, pos)\n",
    "nx.draw_networkx_nodes(G, pos,node_color=np.array(colorsMul), node_size=30)\n",
    "plt.axis(\"off\")\n",
    "plt.show()"
   ]
  }
 ],
 "metadata": {
  "kernelspec": {
   "display_name": "Python 2",
   "language": "python",
   "name": "python2"
  },
  "language_info": {
   "codemirror_mode": {
    "name": "ipython",
    "version": 2
   },
   "file_extension": ".py",
   "mimetype": "text/x-python",
   "name": "python",
   "nbconvert_exporter": "python",
   "pygments_lexer": "ipython2",
   "version": "2.7.14"
  }
 },
 "nbformat": 4,
 "nbformat_minor": 2
}
